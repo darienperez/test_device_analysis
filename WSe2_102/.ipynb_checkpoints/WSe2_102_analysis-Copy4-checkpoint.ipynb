{
 "cells": [
  {
   "cell_type": "markdown",
   "metadata": {},
   "source": [
    "# Analysis of WSe2 102\n",
    "\n",
    "First we start by cleaning up the .csv files. To do that, we get rid of any rows that don't contain data of intrest, store data into vectors, and then plot the curves. Afterwards, we extract the mobility and contact resistance from the measurements."
   ]
  },
  {
   "cell_type": "code",
   "execution_count": 5,
   "metadata": {},
   "outputs": [
    {
     "ename": "ModuleNotFoundError",
     "evalue": "No module named 'matplotlib'",
     "output_type": "error",
     "traceback": [
      "\u001b[0;31m---------------------------------------------------------------------------\u001b[0m",
      "\u001b[0;31mModuleNotFoundError\u001b[0m                       Traceback (most recent call last)",
      "\u001b[0;32m<ipython-input-5-1f28e15be622>\u001b[0m in \u001b[0;36m<module>\u001b[0;34m\u001b[0m\n\u001b[0;32m----> 1\u001b[0;31m \u001b[0;32mimport\u001b[0m \u001b[0mmatplotlib\u001b[0m \u001b[0;32mas\u001b[0m \u001b[0mmpl\u001b[0m\u001b[0;34m\u001b[0m\u001b[0;34m\u001b[0m\u001b[0m\n\u001b[0m\u001b[1;32m      2\u001b[0m \u001b[0;32mimport\u001b[0m \u001b[0mnumpy\u001b[0m \u001b[0;32mas\u001b[0m \u001b[0mnp\u001b[0m\u001b[0;34m\u001b[0m\u001b[0;34m\u001b[0m\u001b[0m\n\u001b[1;32m      3\u001b[0m \u001b[0;32mfrom\u001b[0m \u001b[0mnp\u001b[0m \u001b[0;32mimport\u001b[0m \u001b[0mexp\u001b[0m\u001b[0;34m,\u001b[0m \u001b[0mpi\u001b[0m\u001b[0;34m,\u001b[0m \u001b[0msqrt\u001b[0m\u001b[0;34m\u001b[0m\u001b[0;34m\u001b[0m\u001b[0m\n\u001b[1;32m      4\u001b[0m \u001b[0;32mimport\u001b[0m \u001b[0mmatplotlib\u001b[0m\u001b[0;34m.\u001b[0m\u001b[0mpyplot\u001b[0m \u001b[0;32mas\u001b[0m \u001b[0mplt\u001b[0m\u001b[0;34m\u001b[0m\u001b[0;34m\u001b[0m\u001b[0m\n\u001b[1;32m      5\u001b[0m \u001b[0;32mfrom\u001b[0m \u001b[0mcsv\u001b[0m \u001b[0;32mimport\u001b[0m \u001b[0mreader\u001b[0m\u001b[0;34m\u001b[0m\u001b[0;34m\u001b[0m\u001b[0m\n",
      "\u001b[0;31mModuleNotFoundError\u001b[0m: No module named 'matplotlib'"
     ]
    }
   ],
   "source": [
    "import matplotlib as mpl\n",
    "mpl.use('PS')\n",
    "import numpy as np\n",
    "from numpy import exp, pi, sqrt\n",
    "import matplotlib.pyplot as plt\n",
    "from csv import reader\n",
    "import pandas as pd"
   ]
  },
  {
   "cell_type": "code",
   "execution_count": null,
   "metadata": {},
   "outputs": [],
   "source": [
    "def file_extractor(file):\n",
    "    # Declare filepaths\n",
    "    IdVd_file = open(file)\n",
    "\n",
    "    # Read files\n",
    "    IdVd_read = reader(IdVd_file)\n",
    "\n",
    "    # Convert to list\n",
    "    IdVd_data = list(IdVd_read)\n",
    "    IdVd_data_clean = IdVd_data[259:]\n",
    "    \n",
    "    return IdVd_data_clean\n",
    "\n",
    "def data_extractor(data):\n",
    "    V_list = [] # [Vd, Vg, Vs]\n",
    "    I_list = [] # [Id, Ig, Is]\n",
    "    for row in data[1:]:\n",
    "        # Extract values for voltages\n",
    "        Vd = float(row[1])\n",
    "        Vg = float(row[2])\n",
    "        Vs = float(row[3])\n",
    "        V = [Vd,Vg,Vs]\n",
    "        V_list.append(V)\n",
    "        # Extract values for currents\n",
    "        Id = float(row[4])\n",
    "        Ig = float(row[5])\n",
    "        Is = float(row[6])\n",
    "        I = [Id, Ig, Is]\n",
    "        I_list.append(I)\n",
    "    \n",
    "    V_array = np.array(V_list)\n",
    "    I_array = np.array(I_list)\n",
    "    return V_array, I_array\n",
    "\n",
    "def range_extractor(V_array):\n",
    "    # Create vectors for Vd, Vg, and Vs\n",
    "    #  Loop through data_array and determine the values of Vg\n",
    "    Vg_values = [V_array[0,1]]\n",
    "    idx = 0\n",
    "    for i in range(len(V_array[:,1])):\n",
    "        value = V_array[i,1]\n",
    "        if Vg_values[idx] != value:\n",
    "            Vg_values.append(value)\n",
    "            idx += 1\n",
    "            \n",
    "    #  Index Vd, Vg, Vs arrays using boolean to extract values corresponding to Vg = -5\n",
    "    Vgrange1 = Vg == -5\n",
    "    Vgrange2 = Vg == -10\n",
    "    #  First range of values\n",
    "    Vd1 = V_array[Vgrange1,0]\n",
    "    Vg1 = V_array[Vgrange1,1]\n",
    "    Vs1 = V_array[Vgrange1,2]\n",
    "    #  Second range of values\n",
    "    Vd2 = V_array[Vgrange2,0]\n",
    "    Vg2 = V_array[Vgrange2,1]\n",
    "    Vs2 = V_array[Vgrange2,2]"
   ]
  },
  {
   "cell_type": "code",
   "execution_count": null,
   "metadata": {},
   "outputs": [],
   "source": [
    "def plot_styles(Id, Vd, scale = 'linear', plot_title = 'Title', x_label = 'V', y_label = 'I', \n",
    "                font_size = 20, tick_size = 12):\n",
    "\n",
    "    fig, ax = plt.subplots()\n",
    "    \n",
    "    for i in range(len(Vd[:,0])):\n",
    "        ax.plot(Vd[i,:],np.abs(Id[i,:]))\n",
    "    \n",
    "    ax.invert_xaxis()\n",
    "    ax.set_yscale(scale)\n",
    "    ax.set_title(plot_title, fontsize = font_size)\n",
    "    ax.set_xlabel(x_label, fontsize = font_size)\n",
    "    ax.set_ylabel(y_label, fontsize = font_size)\n",
    "    ax.xaxis.set_tick_params(labelsize = tick_size)\n",
    "    ax.yaxis.set_tick_params(labelsize = tick_size)\n",
    "    \n",
    "def my_plotter(ax, data1, data2, param_dict):\n",
    "    \"\"\"\n",
    "    A helper function to make a graph\n",
    "\n",
    "    Parameters\n",
    "    ----------\n",
    "    ax : Axes\n",
    "        The axes to draw to\n",
    "\n",
    "    data1 : array\n",
    "       The x data\n",
    "\n",
    "    data2 : array\n",
    "       The y data\n",
    "\n",
    "    param_dict : dict\n",
    "       Dictionary of kwargs to pass to ax.plot\n",
    "\n",
    "    Returns\n",
    "    -------\n",
    "    out : list\n",
    "        list of artists added\n",
    "    \"\"\"\n",
    "    out = ax.plot(data1, data2, **param_dict)\n",
    "    return out"
   ]
  },
  {
   "cell_type": "code",
   "execution_count": null,
   "metadata": {},
   "outputs": [],
   "source": [
    "def data_plotter(V_array, I_array):\n",
    "    Vg_values = []\n",
    "    Vg0 = V_array[0,1]\n",
    "    Vg_values.append(Vg0)\n",
    "    idx = 0\n",
    "\n",
    "    for i in range(len(V_array[:,1])):\n",
    "        value = V_array[i,1]\n",
    "        if Vg_values[idx] != value:\n",
    "            Vg_values.append(value)\n",
    "            idx += 1\n",
    "    \n",
    "    # Create vectors for Vd, Vg, and Vs\n",
    "    #  Index Vd, Vg, Vs arrays using boolean to extract values corresponding to Vg = -5\n",
    "    \n",
    "    Vg_ranges = []\n",
    "    \n",
    "    for i in range(len(Vg_values)):\n",
    "        Vg_range = V_array[:,1] == Vg_values[i]\n",
    "        Vg_ranges.append(Vg_range)\n",
    "\n",
    "    Vg_ranges = np.array(Vg_ranges)\n",
    "\n",
    "    Vd_list = []\n",
    "    Id_list = []\n",
    "\n",
    "    for i in range(len(Vg_values)):\n",
    "        Vd = V_array[Vg_ranges[i],0]\n",
    "        Id = I_array[Vg_ranges[i],0]\n",
    "        Vd_list.append(Vd)\n",
    "        Id_list.append(Id)\n",
    "    \n",
    "    Vd_array = np.array(Vd_list)\n",
    "    Id_array = np.array(Id_list)\n",
    "    Vd = Vd_array\n",
    "    Id = Id_array\n",
    "    \n",
    "    plot_styles(Id, Vd)\n",
    "    return Id, Vd"
   ]
  },
  {
   "cell_type": "code",
   "execution_count": null,
   "metadata": {},
   "outputs": [],
   "source": [
    "IdVd200nm = 'Id-Vd_pFET_200nm-2(8).csv'\n",
    "IdVd200nm_2 = 'Id-Vd_pFET [.2um-2(9) ; 10_23_2019 9_28_00 AM].csv'\n",
    "IdVd300nm = 'Id-Vd_pFET [.3um-1(7) ; 10_23_2019 9_18_34 AM].csv'\n",
    "IdVd300nm_21 = 'Id-Vd_pFET [.3um-3(5) ; 10_23_2019 9_04_30 AM].csv'\n",
    "IdVd300nm_22 = 'Id-Vd_pFET [.3um-3(6) ; 10_23_2019 9_11_42 AM].csv'\n",
    "IdVd300nm_3 = 'Id-Vd_pFET [.3um-4(4) ; 10_23_2019 8_55_32 AM].csv'\n",
    "IdVd300nm_4 = 'Id-Vd_pFET [.3um-5(3) ; 10_23_2019 8_49_05 AM].csv'\n",
    "IdVd400nm = 'Id-Vd_pFET [.4um-5(1) ; 10_23_2019 8_37_24 AM].csv'\n",
    "IdVd400nm_2 = 'Id-Vd_pFET [.4um-5(2) ; 10_23_2019 8_44_11 AM].csv'\n",
    "\n",
    "# Extract the data from files\n",
    "IdVd_data_200nm = file_extractor(IdVd200nm)\n",
    "IdVd_data_200nm_2 = file_extractor(IdVd200nm_2)\n",
    "IdVd_data_300nm = file_extractor(IdVd300nm)\n",
    "IdVd_data_300nm_21 = file_extractor(IdVd300nm_21)\n",
    "IdVd_data_300nm_22 = file_extractor(IdVd300nm_22)\n",
    "IdVd_data_300nm_3 = file_extractor(IdVd300nm_3)\n",
    "IdVd_data_300nm_4 = file_extractor(IdVd300nm_4)\n",
    "IdVd_data_400nm = file_extractor(IdVd400nm)\n",
    "IdVd_data_400nm_2 = file_extractor(IdVd400nm_2)\n",
    "\n",
    "# Extract V and I data from rows\n",
    "V_array_200nm, I_array_200nm = data_extractor(IdVd_data_200nm)\n",
    "V_array_200nm_2, I_array_200nm_2 = data_extractor(IdVd_data_200nm_2)\n",
    "V_array_300nm, I_array_300nm = data_extractor(IdVd_data_300nm)\n",
    "V_array_300nm_21, I_array_300nm_21 = data_extractor(IdVd_data_300nm_21)\n",
    "V_array_300nm_22, I_array_300nm_22 = data_extractor(IdVd_data_300nm_22)\n",
    "V_array_300nm_3, I_array_300nm_3 = data_extractor(IdVd_data_300nm_3)\n",
    "V_array_300nm_4, I_array_300nm_4 = data_extractor(IdVd_data_300nm_4)\n",
    "V_array_400nm, I_array_400nm = data_extractor(IdVd_data_400nm)\n",
    "V_array_400nm_2, I_array_400nm_2 = data_extractor(IdVd_data_400nm_2)"
   ]
  },
  {
   "cell_type": "markdown",
   "metadata": {},
   "source": [
    "## Plotted Data"
   ]
  },
  {
   "cell_type": "markdown",
   "metadata": {},
   "source": [
    "## $$I_d\\space vs \\space V_d$$"
   ]
  },
  {
   "cell_type": "markdown",
   "metadata": {},
   "source": [
    "### 300 nm Channel Devices"
   ]
  },
  {
   "cell_type": "code",
   "execution_count": null,
   "metadata": {},
   "outputs": [],
   "source": [
    "%matplotlib inline\n",
    "\n",
    "fig = plt.figure(figsize = (10,6))\n",
    "ax1 = fig.add_axes([0,0,1,1])\n",
    "Id1, Vd1 = data_plotter(V_array_300nm, I_array_300nm)\n",
    "\n",
    "plot_styles(ax1, Id1, Vd1, plot_title = '300 nm channel Dev 3-1', x_label = '$V_d$ (V)', y_label = '$I_d$ (A)')\n",
    "ax1.legend(['Vg = -5 V', 'Vg = -10 V', 'Vg = -15 V', 'Vg = -20 V', 'Vg = -25 V',\n",
    "            'Vg = -30 V', 'Vg = -35 V', 'Vg = -40 V'])\n",
    "ax1.grid()"
   ]
  },
  {
   "cell_type": "markdown",
   "metadata": {},
   "source": [
    "### Raw data for device 3-1"
   ]
  },
  {
   "cell_type": "code",
   "execution_count": 1,
   "metadata": {},
   "outputs": [
    {
     "ename": "NameError",
     "evalue": "name 'IdVd_data_300nm' is not defined",
     "output_type": "error",
     "traceback": [
      "\u001b[0;31m---------------------------------------------------------------------------\u001b[0m",
      "\u001b[0;31mNameError\u001b[0m                                 Traceback (most recent call last)",
      "\u001b[0;32m<ipython-input-1-17f915bbda14>\u001b[0m in \u001b[0;36m<module>\u001b[0;34m\u001b[0m\n\u001b[0;32m----> 1\u001b[0;31m \u001b[0mlabels\u001b[0m  \u001b[0;34m=\u001b[0m \u001b[0mIdVd_data_300nm\u001b[0m\u001b[0;34m[\u001b[0m\u001b[0;36m0\u001b[0m\u001b[0;34m]\u001b[0m\u001b[0;34m[\u001b[0m\u001b[0;36m1\u001b[0m\u001b[0;34m:\u001b[0m\u001b[0;34m]\u001b[0m\u001b[0;34m\u001b[0m\u001b[0;34m\u001b[0m\u001b[0m\n\u001b[0m\u001b[1;32m      2\u001b[0m \u001b[0mtest_data\u001b[0m \u001b[0;34m=\u001b[0m \u001b[0mnp\u001b[0m\u001b[0;34m.\u001b[0m\u001b[0marray\u001b[0m\u001b[0;34m(\u001b[0m\u001b[0mIdVd_data_300nm\u001b[0m\u001b[0;34m)\u001b[0m\u001b[0;34m[\u001b[0m\u001b[0;36m1\u001b[0m\u001b[0;34m:\u001b[0m\u001b[0;34m,\u001b[0m \u001b[0;36m1\u001b[0m\u001b[0;34m:\u001b[0m\u001b[0;34m]\u001b[0m\u001b[0;34m\u001b[0m\u001b[0;34m\u001b[0m\u001b[0m\n\u001b[1;32m      3\u001b[0m \u001b[0mdata1\u001b[0m \u001b[0;34m=\u001b[0m \u001b[0mpd\u001b[0m\u001b[0;34m.\u001b[0m\u001b[0mDataFrame\u001b[0m\u001b[0;34m.\u001b[0m\u001b[0mfrom_records\u001b[0m\u001b[0;34m(\u001b[0m\u001b[0mtest_data\u001b[0m\u001b[0;34m,\u001b[0m \u001b[0mcolumns\u001b[0m \u001b[0;34m=\u001b[0m \u001b[0mlabels\u001b[0m\u001b[0;34m)\u001b[0m\u001b[0;34m\u001b[0m\u001b[0;34m\u001b[0m\u001b[0m\n\u001b[1;32m      4\u001b[0m \u001b[0mpd\u001b[0m\u001b[0;34m.\u001b[0m\u001b[0moptions\u001b[0m\u001b[0;34m.\u001b[0m\u001b[0mdisplay\u001b[0m\u001b[0;34m.\u001b[0m\u001b[0mfloat_format\u001b[0m \u001b[0;34m=\u001b[0m \u001b[0;34m'{:.2e}'\u001b[0m\u001b[0;34m.\u001b[0m\u001b[0mformat\u001b[0m\u001b[0;34m\u001b[0m\u001b[0;34m\u001b[0m\u001b[0m\n\u001b[1;32m      5\u001b[0m \u001b[0mpd\u001b[0m\u001b[0;34m.\u001b[0m\u001b[0mset_option\u001b[0m\u001b[0;34m(\u001b[0m\u001b[0;34m'display.max_rows'\u001b[0m\u001b[0;34m,\u001b[0m \u001b[0mdata1\u001b[0m\u001b[0;34m.\u001b[0m\u001b[0mshape\u001b[0m\u001b[0;34m[\u001b[0m\u001b[0;36m0\u001b[0m\u001b[0;34m]\u001b[0m\u001b[0;34m+\u001b[0m\u001b[0;36m1\u001b[0m\u001b[0;34m)\u001b[0m\u001b[0;34m\u001b[0m\u001b[0;34m\u001b[0m\u001b[0m\n",
      "\u001b[0;31mNameError\u001b[0m: name 'IdVd_data_300nm' is not defined"
     ]
    }
   ],
   "source": [
    "labels  = IdVd_data_300nm[0][1:]\n",
    "test_data = np.array(IdVd_data_300nm)[1:, 1:]\n",
    "data1 = pd.DataFrame.from_records(test_data, columns = labels)\n",
    "pd.options.display.float_format = '{:.2e}'.format\n",
    "pd.set_option('display.max_rows', data1.shape[0]+1)\n",
    "data1"
   ]
  },
  {
   "cell_type": "markdown",
   "metadata": {},
   "source": [
    "### Plot for device 3-3"
   ]
  },
  {
   "cell_type": "code",
   "execution_count": null,
   "metadata": {
    "scrolled": true
   },
   "outputs": [],
   "source": [
    "%matplotlib inline\n",
    "\n",
    "fig = plt.figure(figsize = (10,6))\n",
    "ax1 = fig.add_axes([0,0,1,1])\n",
    "\n",
    "Id2, Vd2  = data_plotter(V_array_300nm_21, I_array_300nm_21)\n",
    "plot_styles(ax1, Id2, Vd2, plot_title = '300 nm channel Dev 3-3', x_label = '$V_d$', y_label = '$I_d$')\n",
    "ax1.legend(['Vg = -5 V', 'Vg = -10 V', 'Vg = -15 V', 'Vg = -20 V', 'Vg = -25 V',\n",
    "            'Vg = -30 V', 'Vg = -35 V', 'Vg = -40 V'])\n",
    "ax1.grid()"
   ]
  },
  {
   "cell_type": "markdown",
   "metadata": {},
   "source": [
    "### Raw data for device 3-3"
   ]
  },
  {
   "cell_type": "code",
   "execution_count": null,
   "metadata": {},
   "outputs": [],
   "source": [
    "Id3, Vd3  = data_plotter(V_array_300nm_22, I_array_300nm_22)\n",
    "#plot_styles(ax2, plot_title = '300 nm channel', x_label = '$V_d$', y_label = '$I_d$')"
   ]
  },
  {
   "cell_type": "markdown",
   "metadata": {},
   "source": [
    "### Plot for device 3-4"
   ]
  },
  {
   "cell_type": "code",
   "execution_count": null,
   "metadata": {},
   "outputs": [],
   "source": [
    "%matplotlib inline\n",
    "\n",
    "fig = plt.figure(figsize = (10,6))\n",
    "ax1 = fig.add_axes([0,0,1,1])\n",
    "\n",
    "Id2, Vd2  = data_plotter(V_array_300nm_3, I_array_300nm_3)\n",
    "plot_styles(ax1, Id2, Vd2, plot_title = '300 nm channel Dev 3-4', x_label = '$V_d$', y_label = '$I_d$')\n",
    "ax1.legend(['Vg = -5 V', 'Vg = -10 V', 'Vg = -15 V', 'Vg = -20 V', 'Vg = -25 V',\n",
    "            'Vg = -30 V', 'Vg = -35 V', 'Vg = -40 V'])\n",
    "ax1.grid()"
   ]
  },
  {
   "cell_type": "markdown",
   "metadata": {},
   "source": [
    "## $$ I_d \\space vs \\space V_g $$"
   ]
  },
  {
   "cell_type": "markdown",
   "metadata": {},
   "source": [
    "### File extraction"
   ]
  },
  {
   "cell_type": "code",
   "execution_count": null,
   "metadata": {},
   "outputs": [],
   "source": [
    "Id5, Vd5  = data_plotter(V_array_300nm_4, I_array_300nm_4)\n",
    "#plot_styles(ax2, plot_title = '300 nm channel', x_label = '$V_d$', y_label = '$I_d$')"
   ]
  },
  {
   "cell_type": "code",
   "execution_count": null,
   "metadata": {},
   "outputs": [],
   "source": [
    "IdVg_data_100nm = file_extractor(IdVg_100nm)\n",
    "IdVg_data_300nm_4 = file_extractor(IdVg_300nm_4)\n",
    "IdVg_data_300nm_41 = file_extractor(IdVg_300nm_41)\n",
    "IdVg_data_400nm_5 = file_extractor(IdVg_400nm_5)\n",
    "IdVg_data_1um_5 = file_extractor(IdVg_1um_5)\n",
    "IdVg_data_2um_4 = file_extractor(IdVg_2um_4)"
   ]
  },
  {
   "cell_type": "code",
   "execution_count": null,
   "metadata": {},
   "outputs": [],
   "source": [
    "V_array_100nm, I_array_100nm = data_extractor(IdVg_data_100nm)\n",
    "V_array_300nm_4, I_array_300nm_4 = data_extractor(IdVg_data_300nm_4)\n",
    "V_array_300nm_41, I_array_300nm_41 = data_extractor(IdVg_data_300nm_41)\n",
    "V_array_400nm_5, I_array_400nm_5 = data_extractor(IdVg_data_400nm_5)\n",
    "V_array_1um_5, I_array_1um_5 = data_extractor(IdVg_data_1um_5)\n",
    "V_array_2um_4, I_array_2um_4 = data_extractor(IdVg_data_2um_4)\n",
    "\n",
    "I_300nm = I_array_300nm_4[0,1]; print(I_300nm)\n",
    "I_400nm = I_array_400nm_5[0,1]; print(I_400nm)\n",
    "I_1um = I_array_1um_5[0,1]; print(I_1um)\n",
    "I_2um = np.amax(I_array_2um_4); print(I_2um)\n",
    "\n",
    "I_length = [I_300nm, I_400nm, I_1um, I_2um]"
   ]
  },
  {
   "cell_type": "markdown",
   "metadata": {},
   "source": [
    "### Plot for device 1-3"
   ]
  },
  {
   "cell_type": "code",
   "execution_count": null,
   "metadata": {},
   "outputs": [],
   "source": [
    "%matplotlib inline\n",
    "\n",
    "fig = plt.figure(figsize = (10,6))\n",
    "ax1 = fig.add_axes([0,0,1,1])\n",
    "\n",
    "Id2, Vd2  = data_plotter(V_array_100nm, I_array_100nm)\n",
    "plot_styles(ax1, Id2, Vd2, scale = 'log' ,plot_title = '100 nm channel Dev 1-3', x_label = '$V_g$ (V)', y_label = '$I_d$ (A)')\n",
    "#ax1.legend(['Vg = -5 V', 'Vg = -10 V', 'Vg = -15 V', 'Vg = -20 V', 'Vg = -25 V',\n",
    "            #'Vg = -30 V', 'Vg = -35 V', 'Vg = -40 V'])\n",
    "ax1.grid()"
   ]
  },
  {
   "cell_type": "markdown",
   "metadata": {},
   "source": [
    "### Plot for devce 3-4"
   ]
  },
  {
   "cell_type": "code",
   "execution_count": null,
   "metadata": {},
   "outputs": [],
   "source": [
    "%matplotlib inline\n",
    "\n",
    "fig = plt.figure(figsize = (10,6))\n",
    "ax1 = fig.add_axes([0,0,1,1])\n",
    "\n",
    "Id2, Vd2  = data_plotter(V_array_300nm_4, I_array_300nm_4)\n",
    "plot_styles(ax1, Id2, Vd2,scale = 'log' ,plot_title = '300 nm channel Dev 3-4', x_label = '$V_g$ (V)', y_label = '$I_d$ (A)')\n",
    "#ax1.legend(['Vg = -5 V', 'Vg = -10 V', 'Vg = -15 V', 'Vg = -20 V', 'Vg = -25 V',\n",
    "            #'Vg = -30 V', 'Vg = -35 V', 'Vg = -40 V'])\n",
    "ax1.grid()"
   ]
  },
  {
   "cell_type": "code",
   "execution_count": null,
   "metadata": {},
   "outputs": [],
   "source": [
    "%matplotlib inline\n",
    "\n",
    "fig = plt.figure(figsize = (10,6))\n",
    "ax1 = fig.add_axes([0,0,1,1])\n",
    "\n",
    "Id2, Vd2  = data_plotter(V_array_300nm_41, I_array_300nm_41)\n",
    "plot_styles(ax1, Id2, Vd2,scale = 'log' ,plot_title = '300 nm channel Dev 3-4, Vg = [-30,30]', x_label = '$V_g$ (V)', y_label = '$I_d$ (A)')\n",
    "#ax1.legend(['Vg = -5 V', 'Vg = -10 V', 'Vg = -15 V', 'Vg = -20 V', 'Vg = -25 V',\n",
    "            #'Vg = -30 V', 'Vg = -35 V', 'Vg = -40 V'])\n",
    "ax1.grid()"
   ]
  },
  {
   "cell_type": "markdown",
   "metadata": {},
   "source": [
    "### Plot for device 4-5"
   ]
  },
  {
   "cell_type": "code",
   "execution_count": null,
   "metadata": {},
   "outputs": [],
   "source": [
    "# %matplotlib inline\n",
    "\n",
    "fig = plt.figure(figsize = (10,6))\n",
    "ax1 = fig.add_axes([0,0,1,1])\n",
    "\n",
    "Id2, Vd2  = data_plotter(V_array_400nm_5, I_array_400nm_5)\n",
    "plot_styles(ax1, Id2, Vd2,scale = 'log' ,plot_title = '400 nm channel Dev 4-5', x_label = '$V_g$ (V)', y_label = '$I_d$ (A)')\n",
    "#ax1.legend(['Vg = -5 V', 'Vg = -10 V', 'Vg = -15 V', 'Vg = -20 V', 'Vg = -25 V',\n",
    "            #'Vg = -30 V', 'Vg = -35 V', 'Vg = -40 V'])\n",
    "ax1.grid()"
   ]
  },
  {
   "cell_type": "markdown",
   "metadata": {},
   "source": [
    "### Plot for device 5-5"
   ]
  },
  {
   "cell_type": "code",
   "execution_count": null,
   "metadata": {},
   "outputs": [],
   "source": [
    "%matplotlib inline\n",
    "\n",
    "fig = plt.figure(figsize = (10,6))\n",
    "ax1 = fig.add_axes([0,0,1,1])\n",
    "\n",
    "Id2, Vd2  = data_plotter(V_array_1um_5, I_array_1um_5)\n",
    "plot_styles(ax1, Id2, Vd2,scale = 'log' ,plot_title = '1 um channel Dev 5-5', x_label = '$V_g$ (V)', y_label = '$I_d$ (A)')\n",
    "#ax1.legend(['Vg = -5 V', 'Vg = -10 V', 'Vg = -15 V', 'Vg = -20 V', 'Vg = -25 V',\n",
    "            #'Vg = -30 V', 'Vg = -35 V', 'Vg = -40 V'])\n",
    "ax1.grid()"
   ]
  },
  {
   "cell_type": "markdown",
   "metadata": {},
   "source": [
    "### Plot for device 6-4"
   ]
  },
  {
   "cell_type": "code",
   "execution_count": null,
   "metadata": {},
   "outputs": [],
   "source": [
    "%matplotlib inline\n",
    "\n",
    "fig = plt.figure(figsize = (10,6))\n",
    "ax1 = fig.add_axes([0,0,1,1])\n",
    "\n",
    "Id2, Vd2  = data_plotter(V_array_2um_4, I_array_2um_4)\n",
    "plot_styles(ax1, Id2, Vd2,scale = 'log' ,plot_title = '2 um channel Dev 6-4', x_label = '$V_g$ (V)', y_label = '$I_d$ (A)')\n",
    "#ax1.legend(['Vg = -5 V', 'Vg = -10 V', 'Vg = -15 V', 'Vg = -20 V', 'Vg = -25 V',\n",
    "            #'Vg = -30 V', 'Vg = -35 V', 'Vg = -40 V'])\n",
    "ax1.grid()"
   ]
  },
  {
   "cell_type": "markdown",
   "metadata": {},
   "source": [
    "### Plot for length dependence"
   ]
  },
  {
   "cell_type": "code",
   "execution_count": null,
   "metadata": {},
   "outputs": [],
   "source": [
    "fig = plt.figure(figsize = (10,6))\n",
    "ax1 = fig.add_axes([0,0,1,1])\n",
    "ax1.plot('300 nm', I_300nm, 'bo')\n",
    "ax1.plot('400 nm', I_400nm, 'ro')\n",
    "ax1.plot('1 um', I_1um, 'go')\n",
    "ax1.plot('2 um', I_2um, 'co')\n",
    "\n",
    "ax1.legend(['300 nm', '400 nm', '1 um', '2 um'])\n",
    "ax1.set_ylabel('$I_d$ (A)', fontsize = 20)\n",
    "ax1.set_xlabel('Channel lengths', fontsize = 20)\n",
    "ax1.xaxis.set_tick_params(labelsize = 12)\n",
    "ax1.yaxis.set_tick_params(labelsize = 12)\n",
    "ax1.set_title('Length Dependency Plot', fontsize = 20)\n",
    "ax1.grid()"
   ]
  },
  {
   "cell_type": "markdown",
   "metadata": {},
   "source": [
    "### Mobility Calculation"
   ]
  },
  {
   "cell_type": "code",
   "execution_count": null,
   "metadata": {},
   "outputs": [],
   "source": [
    "e = 11.68\n",
    "e0 = 8.85e-12 /100\n",
    "t = 90e-7 # cm\n",
    "er = e * e0\n",
    "C_ox = er/t; print(C_ox)"
   ]
  },
  {
   "cell_type": "code",
   "execution_count": null,
   "metadata": {},
   "outputs": [],
   "source": [
    "L = 300e-7 # cm\n",
    "W = 2e-4 # cm\n",
    "Id_300nm_max = np.amax(I_array_300nm); print(Id_300nm_max)"
   ]
  }
 ],
 "metadata": {
  "kernelspec": {
   "display_name": "Python 3",
   "language": "python",
   "name": "python3"
  },
  "language_info": {
   "codemirror_mode": {
    "name": "ipython",
    "version": 3
   },
   "file_extension": ".py",
   "mimetype": "text/x-python",
   "name": "python",
   "nbconvert_exporter": "python",
   "pygments_lexer": "ipython3",
   "version": "3.7.3"
  }
 },
 "nbformat": 4,
 "nbformat_minor": 2
}
