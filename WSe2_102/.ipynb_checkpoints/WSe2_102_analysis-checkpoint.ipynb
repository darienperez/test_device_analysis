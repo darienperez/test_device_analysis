{
 "cells": [
  {
   "cell_type": "markdown",
   "metadata": {},
   "source": [
    "# Analysis of WSe2 102\n",
    "\n",
    "First we start by cleaning up the .csv files. To do that, we get rid of any rows that don't contain data of intrest, store data into vectors, and then plot the curves. Afterwards, we extract the mobility and contact resistance from the measurements."
   ]
  },
  {
   "cell_type": "code",
   "execution_count": 1,
   "metadata": {},
   "outputs": [],
   "source": [
    "import numpy as np\n",
    "from numpy import exp, pi, sqrt\n",
    "import matplotlib.pyplot as plt\n",
    "from csv import reader"
   ]
  },
  {
   "cell_type": "code",
   "execution_count": 2,
   "metadata": {},
   "outputs": [],
   "source": [
    "def file_extractor(file):\n",
    "    # Declare filepaths\n",
    "    IdVd_file = open('Id-Vd_pFET_200nm-2(8).csv')\n",
    "\n",
    "    # Read files\n",
    "    IdVd_read = reader(IdVd_file)\n",
    "\n",
    "    # Convert to list\n",
    "    IdVd_data = list(IdVd_read)\n",
    "    IdVd_data_clean = IdVd_data[259:]\n",
    "    \n",
    "    return IdVd_data_clean\n",
    "\n",
    "def data_extractor(data):\n",
    "    V_list = [] # [Vd, Vg, Vs]\n",
    "    I_list = [] # [Id, Ig, Is]\n",
    "    for row in data[1:]:\n",
    "        # Extract values for voltages\n",
    "        Vd = float(row[1])\n",
    "        Vg = float(row[2])\n",
    "        Vs = float(row[3])\n",
    "        V = [Vd,Vg,Vs]\n",
    "        V_list.append(V)\n",
    "        # Extract values for currents\n",
    "        Id = float(row[4])\n",
    "        Ig = float(row[5])\n",
    "        Is = float(row[6])\n",
    "        I = [Id, Ig, Is]\n",
    "        I_list.append(I)\n",
    "    \n",
    "    V_array = np.array(V_list)\n",
    "    I_array = np.array(I_list)\n",
    "    return V_array, I_array\n",
    "\n",
    "def range_extractor(V_array):\n",
    "    # Create vectors for Vd, Vg, and Vs\n",
    "    #  Loop through data_array and determine the values of Vg\n",
    "    Vg_values = [V_array[0,1]]\n",
    "    idx = 0\n",
    "    for i in range(len(V_array[:,1])):\n",
    "        value = V_array[i,1]\n",
    "        if Vg_values[idx] != value:\n",
    "            Vg_values.append(value)\n",
    "            idx += 1\n",
    "            \n",
    "    #  Index Vd, Vg, Vs arrays using boolean to extract values corresponding to Vg = -5\n",
    "    Vgrange1 = Vg == -5\n",
    "    Vgrange2 = Vg == -10\n",
    "    #  First range of values\n",
    "    Vd1 = V_array[Vgrange1,0]\n",
    "    Vg1 = V_array[Vgrange1,1]\n",
    "    Vs1 = V_array[Vgrange1,2]\n",
    "    #  Second range of values\n",
    "    Vd2 = V_array[Vgrange2,0]\n",
    "    Vg2 = V_array[Vgrange2,1]\n",
    "    Vs2 = V_array[Vgrange2,2]"
   ]
  },
  {
   "cell_type": "code",
   "execution_count": 3,
   "metadata": {},
   "outputs": [],
   "source": [
    "# Declare filepaths\n",
    "IdVd_file = open('Id-Vd_pFET_200nm-2(8).csv')\n",
    "\n",
    "# Read files\n",
    "IdVd_read = reader(IdVd_file)\n",
    "\n",
    "# Convert to list\n",
    "IdVd_data = list(IdVd_read)\n",
    "IdVd_data_clean = IdVd_data[259:]"
   ]
  },
  {
   "cell_type": "code",
   "execution_count": 4,
   "metadata": {},
   "outputs": [
    {
     "data": {
      "text/plain": [
       "['DataValue',\n",
       " ' 0',\n",
       " ' -5',\n",
       " ' 0',\n",
       " ' 1.000012E-05',\n",
       " ' 2.8E-14',\n",
       " ' -1.0000200000000001E-05',\n",
       " ' 1.000012E-05',\n",
       " ' 2.8E-14']"
      ]
     },
     "execution_count": 4,
     "metadata": {},
     "output_type": "execute_result"
    }
   ],
   "source": [
    "IdVd_data_clean[1]"
   ]
  },
  {
   "cell_type": "code",
   "execution_count": 5,
   "metadata": {},
   "outputs": [],
   "source": [
    "V_list = [] # [Vd, Vg, Vs]\n",
    "I_list = [] # [Id, Ig, Is]\n",
    "for row in IdVd_data_clean[1:]:\n",
    "    # Extract values for voltages\n",
    "    Vd = float(row[1])\n",
    "    Vg = float(row[2])\n",
    "    Vs = float(row[3])\n",
    "    V = [Vd,Vg,Vs]\n",
    "    V_list.append(V)\n",
    "    # Extract values for currents\n",
    "    Id = float(row[4])\n",
    "    Ig = float(row[5])\n",
    "    Is = float(row[6])\n",
    "    I = [Id, Ig, Is]\n",
    "    I_list.append(I)\n",
    "    \n",
    "V_array = np.array(V_list)\n",
    "I_array = np.array(I_list)"
   ]
  },
  {
   "cell_type": "code",
   "execution_count": 6,
   "metadata": {},
   "outputs": [],
   "source": [
    "Vgrange1 = V_array[:,1] == -5"
   ]
  },
  {
   "cell_type": "code",
   "execution_count": 7,
   "metadata": {},
   "outputs": [
    {
     "data": {
      "text/plain": [
       "array([ True,  True,  True,  True,  True,  True,  True,  True,  True,\n",
       "        True,  True,  True,  True,  True,  True,  True,  True,  True,\n",
       "        True,  True,  True,  True,  True,  True,  True,  True,  True,\n",
       "        True,  True,  True,  True,  True,  True,  True,  True,  True,\n",
       "        True,  True,  True,  True,  True,  True,  True,  True,  True,\n",
       "        True,  True,  True,  True,  True,  True,  True,  True,  True,\n",
       "        True,  True,  True,  True,  True,  True,  True,  True,  True,\n",
       "        True,  True,  True,  True,  True,  True,  True,  True,  True,\n",
       "        True,  True,  True,  True,  True,  True,  True,  True,  True,\n",
       "        True,  True,  True,  True,  True,  True,  True,  True,  True,\n",
       "        True,  True,  True,  True,  True,  True,  True,  True,  True,\n",
       "        True,  True,  True,  True,  True,  True,  True,  True,  True,\n",
       "        True,  True,  True,  True,  True,  True,  True,  True,  True,\n",
       "        True,  True,  True,  True,  True,  True,  True,  True,  True,\n",
       "        True,  True,  True,  True,  True,  True,  True,  True,  True,\n",
       "        True,  True,  True,  True,  True,  True,  True,  True,  True,\n",
       "        True,  True,  True,  True,  True,  True,  True, False, False,\n",
       "       False, False, False, False, False, False, False, False, False,\n",
       "       False, False, False, False, False, False, False, False, False,\n",
       "       False, False, False, False, False, False, False, False, False,\n",
       "       False, False, False, False, False, False, False, False, False,\n",
       "       False, False, False, False, False, False])"
      ]
     },
     "execution_count": 7,
     "metadata": {},
     "output_type": "execute_result"
    }
   ],
   "source": [
    "Vgrange1"
   ]
  },
  {
   "cell_type": "code",
   "execution_count": null,
   "metadata": {},
   "outputs": [],
   "source": []
  },
  {
   "cell_type": "code",
   "execution_count": 8,
   "metadata": {},
   "outputs": [],
   "source": [
    "# Create vectors for Vd, Vg, and Vs\n",
    "#  Index Vd, Vg, Vs arrays using boolean to extract values corresponding to Vg = -5\n",
    "Vgrange1 = V_array[:,1] == -5\n",
    "Vgrange2 = V_array[:,1] == -10\n",
    "#  First range of values\n",
    "Vd1 = V_array[Vgrange1,0]\n",
    "Vg1 = V_array[Vgrange1,1]\n",
    "Vs1 = V_array[Vgrange1,2]\n",
    "#  Second range of values\n",
    "Vd2 = V_array[Vgrange2,0]\n",
    "Vg2 = V_array[Vgrange2,1]\n",
    "Vs2 = V_array[Vgrange2,2]\n",
    "\n",
    "# Create vectors for Id, Ig, and Is\n",
    "#  Index Id array using boolean to extract values corresponding to Vg = -5\n",
    "Igrange1 = Vgrange1\n",
    "Igrange2 = Vgrange2\n",
    "#  First range of values\n",
    "Id1 = I_array[Igrange1,0]\n",
    "Ig1 = I_array[Igrange1,1]\n",
    "Is1 = I_array[Igrange1,2]\n",
    "#  Second range of values\n",
    "Id2 = I_array[Igrange2,0]\n",
    "Ig2 = I_array[Igrange2,1]\n",
    "Is2 = I_array[Igrange2,2]"
   ]
  },
  {
   "cell_type": "code",
   "execution_count": 9,
   "metadata": {
    "scrolled": true
   },
   "outputs": [],
   "source": [
    "Vg_values = [V_array[0,1]]\n",
    "idx = 0\n",
    "for i in range(len(V_array[:,1])):\n",
    "    value = V_array[i,1]\n",
    "    if Vg_values[idx] != value:\n",
    "        Vg_values.append(value)\n",
    "        idx += 1"
   ]
  },
  {
   "cell_type": "code",
   "execution_count": 10,
   "metadata": {},
   "outputs": [
    {
     "data": {
      "image/png": "[encoded data removed]",
      "text/plain": [
       "<Figure size 432x288 with 1 Axes>"
      ]
     },
     "metadata": {
      "needs_background": "light"
     },
     "output_type": "display_data"
    }
   ],
   "source": [
    "fig, ax = plt.subplots()\n",
    "ax.plot(Vd1, Id1)\n",
    "ax.plot(Vd2, Id2)\n",
    "ax.axes.invert_xaxis()"
   ]
  }
 ],
 "metadata": {
  "kernelspec": {
   "display_name": "Python 3",
   "language": "python",
   "name": "python3"
  },
  "language_info": {
   "codemirror_mode": {
    "name": "ipython",
    "version": 3
   },
   "file_extension": ".py",
   "mimetype": "text/x-python",
   "name": "python",
   "nbconvert_exporter": "python",
   "pygments_lexer": "ipython3",
   "version": "3.7.3"
  }
 },
 "nbformat": 4,
 "nbformat_minor": 2
}
