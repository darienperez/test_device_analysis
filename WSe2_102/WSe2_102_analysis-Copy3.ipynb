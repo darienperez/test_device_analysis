{
 "cells": [
  {
   "cell_type": "markdown",
   "metadata": {},
   "source": [
    "# Analysis of WSe2 102\n",
    "\n",
    "First we start by cleaning up the .csv files. To do that, we get rid of any rows that don't contain data of intrest, store data into vectors, and then plot the curves. Afterwards, we extract the mobility and contact resistance from the measurements."
   ]
  },
  {
   "cell_type": "code",
   "execution_count": 5,
   "metadata": {},
   "outputs": [
    {
     "ename": "ModuleNotFoundError",
     "evalue": "No module named 'matplotlib'",
     "output_type": "error",
     "traceback": [
      "\u001b[0;31m---------------------------------------------------------------------------\u001b[0m",
      "\u001b[0;31mModuleNotFoundError\u001b[0m                       Traceback (most recent call last)",
      "\u001b[0;32m<ipython-input-5-1f28e15be622>\u001b[0m in \u001b[0;36m<module>\u001b[0;34m\u001b[0m\n\u001b[0;32m----> 1\u001b[0;31m \u001b[0;32mimport\u001b[0m \u001b[0mmatplotlib\u001b[0m \u001b[0;32mas\u001b[0m \u001b[0mmpl\u001b[0m\u001b[0;34m\u001b[0m\u001b[0;34m\u001b[0m\u001b[0m\n\u001b[0m\u001b[1;32m      2\u001b[0m \u001b[0;32mimport\u001b[0m \u001b[0mnumpy\u001b[0m \u001b[0;32mas\u001b[0m \u001b[0mnp\u001b[0m\u001b[0;34m\u001b[0m\u001b[0;34m\u001b[0m\u001b[0m\n\u001b[1;32m      3\u001b[0m \u001b[0;32mfrom\u001b[0m \u001b[0mnp\u001b[0m \u001b[0;32mimport\u001b[0m \u001b[0mexp\u001b[0m\u001b[0;34m,\u001b[0m \u001b[0mpi\u001b[0m\u001b[0;34m,\u001b[0m \u001b[0msqrt\u001b[0m\u001b[0;34m\u001b[0m\u001b[0;34m\u001b[0m\u001b[0m\n\u001b[1;32m      4\u001b[0m \u001b[0;32mimport\u001b[0m \u001b[0mmatplotlib\u001b[0m\u001b[0;34m.\u001b[0m\u001b[0mpyplot\u001b[0m \u001b[0;32mas\u001b[0m \u001b[0mplt\u001b[0m\u001b[0;34m\u001b[0m\u001b[0;34m\u001b[0m\u001b[0m\n\u001b[1;32m      5\u001b[0m \u001b[0;32mfrom\u001b[0m \u001b[0mcsv\u001b[0m \u001b[0;32mimport\u001b[0m \u001b[0mreader\u001b[0m\u001b[0;34m\u001b[0m\u001b[0;34m\u001b[0m\u001b[0m\n",
      "\u001b[0;31mModuleNotFoundError\u001b[0m: No module named 'matplotlib'"
     ]
    }
   ],
   "source": [
    "import matplotlib as mpl\n",
    "import numpy as np\n",
    "from np import exp, pi, sqrt\n",
    "import matplotlib.pyplot as plt\n",
    "from csv import reader\n"
   ]
  },
  {
   "cell_type": "code",
   "execution_count": null,
   "metadata": {},
   "outputs": [],
   "source": [
    "def file_extractor(file):\n",
    "    # Declare filepaths\n",
    "    IdVd_file = open(file)\n",
    "\n",
    "    # Read files\n",
    "    IdVd_read = reader(IdVd_file)\n",
    "\n",
    "    # Convert to list\n",
    "    IdVd_data = list(IdVd_read)\n",
    "    IdVd_data_clean = IdVd_data[259:]\n",
    "    \n",
    "    return IdVd_data_clean\n",
    "\n",
    "def data_extractor(data):\n",
    "    V_list = [] # [Vd, Vg, Vs]\n",
    "    I_list = [] # [Id, Ig, Is]\n",
    "    for row in data[1:]:\n",
    "        # Extract values for voltages\n",
    "        Vd = float(row[1])\n",
    "        Vg = float(row[2])\n",
    "        Vs = float(row[3])\n",
    "        V = [Vd,Vg,Vs]\n",
    "        V_list.append(V)\n",
    "        # Extract values for currents\n",
    "        Id = float(row[4])\n",
    "        Ig = float(row[5])\n",
    "        Is = float(row[6])\n",
    "        I = [Id, Ig, Is]\n",
    "        I_list.append(I)\n",
    "    \n",
    "    V_array = np.array(V_list)\n",
    "    I_array = np.array(I_list)\n",
    "    return V_array, I_array\n",
    "\n",
    "def range_extractor(V_array):\n",
    "    # Create vectors for Vd, Vg, and Vs\n",
    "    #  Loop through data_array and determine the values of Vg\n",
    "    Vg_values = [V_array[0,1]]\n",
    "    idx = 0\n",
    "    for i in range(len(V_array[:,1])):\n",
    "        value = V_array[i,1]\n",
    "        if Vg_values[idx] != value:\n",
    "            Vg_values.append(value)\n",
    "            idx += 1\n",
    "            \n",
    "    #  Index Vd, Vg, Vs arrays using boolean to extract values corresponding to Vg = -5\n",
    "    Vgrange1 = Vg == -5\n",
    "    Vgrange2 = Vg == -10\n",
    "    #  First range of values\n",
    "    Vd1 = V_array[Vgrange1,0]\n",
    "    Vg1 = V_array[Vgrange1,1]\n",
    "    Vs1 = V_array[Vgrange1,2]\n",
    "    #  Second range of values\n",
    "    Vd2 = V_array[Vgrange2,0]\n",
    "    Vg2 = V_array[Vgrange2,1]\n",
    "    Vs2 = V_array[Vgrange2,2]"
   ]
  },
  {
   "cell_type": "code",
   "execution_count": null,
   "metadata": {},
   "outputs": [],
   "source": [
    "def plot_styles(Id, Vd, scale = 'linear', plot_title = 'Title', x_label = 'V', y_label = 'I', \n",
    "                font_size = 20, tick_size = 12):\n",
    "\n",
    "    fig, ax = plt.subplots()\n",
    "    \n",
    "    for i in range(len(Vd[:,0])):\n",
    "        ax.plot(Vd[i,:],np.abs(Id[i,:]))\n",
    "    \n",
    "    ax.invert_xaxis()\n",
    "    ax.set_yscale(scale)\n",
    "    ax.set_title(plot_title, fontsize = font_size)\n",
    "    ax.set_xlabel(x_label, fontsize = font_size)\n",
    "    ax.set_ylabel(y_label, fontsize = font_size)\n",
    "    ax.xaxis.set_tick_params(labelsize = tick_size)\n",
    "    ax.yaxis.set_tick_params(labelsize = tick_size)\n",
    "    \n",
    "def my_plotter(ax, data1, data2, param_dict):\n",
    "    \"\"\"\n",
    "    A helper function to make a graph\n",
    "\n",
    "    Parameters\n",
    "    ----------\n",
    "    ax : Axes\n",
    "        The axes to draw to\n",
    "\n",
    "    data1 : array\n",
    "       The x data\n",
    "\n",
    "    data2 : array\n",
    "       The y data\n",
    "\n",
    "    param_dict : dict\n",
    "       Dictionary of kwargs to pass to ax.plot\n",
    "\n",
    "    Returns\n",
    "    -------\n",
    "    out : list\n",
    "        list of artists added\n",
    "    \"\"\"\n",
    "    out = ax.plot(data1, data2, **param_dict)\n",
    "    return out"
   ]
  },
  {
   "cell_type": "code",
   "execution_count": null,
   "metadata": {},
   "outputs": [],
   "source": [
    "def data_plotter(V_array, I_array):\n",
    "    Vg_values = []\n",
    "    Vg0 = V_array[0,1]\n",
    "    Vg_values.append(Vg0)\n",
    "    idx = 0\n",
    "\n",
    "    for i in range(len(V_array[:,1])):\n",
    "        value = V_array[i,1]\n",
    "        if Vg_values[idx] != value:\n",
    "            Vg_values.append(value)\n",
    "            idx += 1\n",
    "    \n",
    "    # Create vectors for Vd, Vg, and Vs\n",
    "    #  Index Vd, Vg, Vs arrays using boolean to extract values corresponding to Vg = -5\n",
    "    \n",
    "    Vg_ranges = []\n",
    "    \n",
    "    for i in range(len(Vg_values)):\n",
    "        Vg_range = V_array[:,1] == Vg_values[i]\n",
    "        Vg_ranges.append(Vg_range)\n",
    "\n",
    "    Vg_ranges = np.array(Vg_ranges)\n",
    "\n",
    "    Vd_list = []\n",
    "    Id_list = []\n",
    "\n",
    "    for i in range(len(Vg_values)):\n",
    "        Vd = V_array[Vg_ranges[i],0]\n",
    "        Id = I_array[Vg_ranges[i],0]\n",
    "        Vd_list.append(Vd)\n",
    "        Id_list.append(Id)\n",
    "    \n",
    "    Vd_array = np.array(Vd_list)\n",
    "    Id_array = np.array(Id_list)\n",
    "    Vd = Vd_array\n",
    "    Id = Id_array\n",
    "    \n",
    "    plot_styles(Id, Vd)\n",
    "    return Id, Vd"
   ]
  },
  {
   "cell_type": "code",
   "execution_count": null,
   "metadata": {},
   "outputs": [],
   "source": [
    "IdVd200nm = 'Id-Vd_pFET_200nm-2(8).csv'\n",
    "IdVd200nm_2 = 'Id-Vd_pFET [.2um-2(9) ; 10_23_2019 9_28_00 AM].csv'\n",
    "IdVd300nm = 'Id-Vd_pFET [.3um-1(7) ; 10_23_2019 9_18_34 AM].csv'\n",
    "IdVd300nm_21 = 'Id-Vd_pFET [.3um-3(5) ; 10_23_2019 9_04_30 AM].csv'\n",
    "IdVd300nm_22 = 'Id-Vd_pFET [.3um-3(6) ; 10_23_2019 9_11_42 AM].csv'\n",
    "IdVd300nm_3 = 'Id-Vd_pFET [.3um-4(4) ; 10_23_2019 8_55_32 AM].csv'\n",
    "IdVd300nm_4 = 'Id-Vd_pFET [.3um-5(3) ; 10_23_2019 8_49_05 AM].csv'\n",
    "IdVd400nm = 'Id-Vd_pFET [.4um-5(1) ; 10_23_2019 8_37_24 AM].csv'\n",
    "IdVd400nm_2 = 'Id-Vd_pFET [.4um-5(2) ; 10_23_2019 8_44_11 AM].csv'\n",
    "\n",
    "# Extract the data from files\n",
    "IdVd_data_200nm = file_extractor(IdVd200nm)\n",
    "IdVd_data_200nm_2 = file_extractor(IdVd200nm_2)\n",
    "IdVd_data_300nm = file_extractor(IdVd300nm)\n",
    "IdVd_data_300nm_21 = file_extractor(IdVd300nm_21)\n",
    "IdVd_data_300nm_22 = file_extractor(IdVd300nm_22)\n",
    "IdVd_data_300nm_3 = file_extractor(IdVd300nm_3)\n",
    "IdVd_data_300nm_4 = file_extractor(IdVd300nm_4)\n",
    "IdVd_data_400nm = file_extractor(IdVd400nm)\n",
    "IdVd_data_400nm_2 = file_extractor(IdVd400nm_2)\n",
    "\n",
    "# Extract V and I data from rows\n",
    "V_array_200nm, I_array_200nm = data_extractor(IdVd_data_200nm)\n",
    "V_array_200nm_2, I_array_200nm_2 = data_extractor(IdVd_data_200nm_2)\n",
    "V_array_300nm, I_array_300nm = data_extractor(IdVd_data_300nm)\n",
    "V_array_300nm_21, I_array_300nm_21 = data_extractor(IdVd_data_300nm_21)\n",
    "V_array_300nm_22, I_array_300nm_22 = data_extractor(IdVd_data_300nm_22)\n",
    "V_array_300nm_3, I_array_300nm_3 = data_extractor(IdVd_data_300nm_3)\n",
    "V_array_300nm_4, I_array_300nm_4 = data_extractor(IdVd_data_300nm_4)\n",
    "V_array_400nm, I_array_400nm = data_extractor(IdVd_data_400nm)\n",
    "V_array_400nm_2, I_array_400nm_2 = data_extractor(IdVd_data_400nm_2)"
   ]
  },
  {
   "cell_type": "code",
   "execution_count": null,
   "metadata": {},
   "outputs": [],
   "source": [
    "%matplotlib inline\n",
    "Id1, Vd1 = data_plotter(V_array_300nm, I_array_300nm)\n",
    "#plot_styles(ax1, plot_title = '300 nm channel', x_label = '$V_d$', y_label = '$I_d$')"
   ]
  },
  {
   "cell_type": "code",
   "execution_count": null,
   "metadata": {
    "scrolled": true
   },
   "outputs": [],
   "source": [
    "Id2, Vd2  = data_plotter(V_array_300nm_21, I_array_300nm_21)\n",
    "#plot_styles(ax2, plot_title = '300 nm channel', x_label = '$V_d$', y_label = '$I_d$')"
   ]
  },
  {
   "cell_type": "code",
   "execution_count": null,
   "metadata": {},
   "outputs": [],
   "source": [
    "Id3, Vd3  = data_plotter(V_array_300nm_22, I_array_300nm_22)\n",
    "#plot_styles(ax2, plot_title = '300 nm channel', x_label = '$V_d$', y_label = '$I_d$')"
   ]
  },
  {
   "cell_type": "code",
   "execution_count": null,
   "metadata": {},
   "outputs": [],
   "source": [
    "Id4, Vd4  = data_plotter(V_array_300nm_3, I_array_300nm_3)\n",
    "#plot_styles(ax2, plot_title = '300 nm channel', x_label = '$V_d$', y_label = '$I_d$')"
   ]
  },
  {
   "cell_type": "code",
   "execution_count": null,
   "metadata": {},
   "outputs": [],
   "source": []
  },
  {
   "cell_type": "code",
   "execution_count": null,
   "metadata": {},
   "outputs": [],
   "source": [
    "Id5, Vd5  = data_plotter(V_array_300nm_4, I_array_300nm_4)\n",
    "#plot_styles(ax2, plot_title = '300 nm channel', x_label = '$V_d$', y_label = '$I_d$')"
   ]
  },
  {
   "cell_type": "code",
   "execution_count": null,
   "metadata": {},
   "outputs": [],
   "source": [
    "I_array_300nm_4\n"
   ]
  },
  {
   "cell_type": "code",
   "execution_count": null,
   "metadata": {},
   "outputs": [],
   "source": []
  }
 ],
 "metadata": {
  "kernelspec": {
   "display_name": "Python 3",
   "language": "python",
   "name": "python3"
  },
  "language_info": {
   "codemirror_mode": {
    "name": "ipython",
    "version": 3
   },
   "file_extension": ".py",
   "mimetype": "text/x-python",
   "name": "python",
   "nbconvert_exporter": "python",
   "pygments_lexer": "ipython3",
   "version": "3.7.3"
  }
 },
 "nbformat": 4,
 "nbformat_minor": 2
}
